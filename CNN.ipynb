{
 "cells": [
  {
   "cell_type": "code",
   "execution_count": 2,
   "metadata": {},
   "outputs": [],
   "source": [
    "import numpy as np # linear algebra\n",
    "from keras.datasets import mnist\n",
    "import pandas as pd # data processing, CSV file I/O (e.g. pd.read_csv)from keras.datasets import mnist# Load Keras module\n",
    "from keras.models import Sequential\n",
    "from keras.layers import Conv2D, Dense, Flatten\n",
    "from keras.optimizers import RMSprop\n",
    "\n",
    "# For creating the 10-dimensional output vectors\n",
    "from keras.utils.np_utils import to_categorical"
   ]
  },
  {
   "cell_type": "code",
   "execution_count": 4,
   "metadata": {},
   "outputs": [],
   "source": [
    "# Load datax\n",
    "(train_x, train_y), (test_x, test_y) = mnist.load_data()"
   ]
  },
  {
   "cell_type": "code",
   "execution_count": 7,
   "metadata": {},
   "outputs": [],
   "source": [
    "train_x = train_x.reshape(train_x.shape[0], 28, 28, 1)\n",
    "test_x = test_x.reshape(test_x.shape[0], 28, 28, 1)"
   ]
  },
  {
   "cell_type": "code",
   "execution_count": 8,
   "metadata": {
    "collapsed": true
   },
   "outputs": [],
   "source": [
    "train_y = to_categorical(train_y)"
   ]
  },
  {
   "cell_type": "code",
   "execution_count": 11,
   "metadata": {},
   "outputs": [
    {
     "data": {
      "text/plain": [
       "(60000, 10)"
      ]
     },
     "execution_count": 11,
     "metadata": {},
     "output_type": "execute_result"
    }
   ],
   "source": [
    "train_y.shape"
   ]
  },
  {
   "cell_type": "code",
   "execution_count": 12,
   "metadata": {},
   "outputs": [
    {
     "name": "stdout",
     "output_type": "stream",
     "text": [
      "Given image of dimension (28, 28, 1) returns vector of dimension 10\n"
     ]
    }
   ],
   "source": [
    "# Next, we need to define a classifier\n",
    "model = Sequential()\n",
    "\n",
    "# It will take this image in as input and convolve it.\n",
    "# Layer changes input shape to (26, 26, 8), which represents a 26x26 image with 8 features\n",
    "model.add(Conv2D(8, kernel_size = (3,3), strides=(1,1), activation=\"relu\", input_shape=(28, 28, 1)))\n",
    "\n",
    "# Reduction to (22, 22, 16)\n",
    "model.add(Conv2D(16, kernel_size = (5,5), strides=(1,1), activation=\"relu\"))\n",
    "\n",
    "# Reduction to (10, 10, 32)\n",
    "model.add(Conv2D(32, kernel_size = (4,4), strides=(2,2), activation=\"relu\"))\n",
    "\n",
    "# Reduction to (4, 4, 16)\n",
    "model.add(Conv2D(16, kernel_size = (4,4), strides = (2,2), activation=\"relu\"))\n",
    "\n",
    "# Flatten the stats\n",
    "model.add(Flatten())\n",
    "\n",
    "# Resolve everything\n",
    "model.add(Dense(10, activation=\"softmax\"))\n",
    "\n",
    "print(\"Given image of dimension\", model.input_shape[1:], \"returns vector of dimension\", model.output_shape[1])"
   ]
  },
  {
   "cell_type": "code",
   "execution_count": 13,
   "metadata": {},
   "outputs": [
    {
     "name": "stderr",
     "output_type": "stream",
     "text": [
      "/home/anupam/anaconda3/lib/python3.6/site-packages/keras/models.py:942: UserWarning: The `nb_epoch` argument in `fit` has been renamed `epochs`.\n",
      "  warnings.warn('The `nb_epoch` argument in `fit` '\n"
     ]
    },
    {
     "name": "stdout",
     "output_type": "stream",
     "text": [
      "Epoch 1/10\n",
      "60000/60000 [==============================] - 83s 1ms/step - loss: 0.2190 - acc: 0.9400\n",
      "Epoch 2/10\n",
      "60000/60000 [==============================] - 85s 1ms/step - loss: 0.0703 - acc: 0.9799\n",
      "Epoch 3/10\n",
      "60000/60000 [==============================] - 86s 1ms/step - loss: 0.0548 - acc: 0.9843\n",
      "Epoch 4/10\n",
      "60000/60000 [==============================] - 88s 1ms/step - loss: 0.0509 - acc: 0.9865\n",
      "Epoch 5/10\n",
      "60000/60000 [==============================] - 90s 2ms/step - loss: 0.0447 - acc: 0.9886\n",
      "Epoch 6/10\n",
      "60000/60000 [==============================] - 84s 1ms/step - loss: 0.0418 - acc: 0.9892\n",
      "Epoch 7/10\n",
      "60000/60000 [==============================] - 16722s 279ms/step - loss: 0.0378 - acc: 0.9907\n",
      "Epoch 8/10\n",
      "60000/60000 [==============================] - 79s 1ms/step - loss: 0.0401 - acc: 0.9911\n",
      "Epoch 9/10\n",
      "60000/60000 [==============================] - 78s 1ms/step - loss: 0.0361 - acc: 0.9920\n",
      "Epoch 10/10\n",
      "60000/60000 [==============================] - 96s 2ms/step - loss: 0.0410 - acc: 0.9921\n"
     ]
    }
   ],
   "source": [
    "# Now, we setup the model for training\n",
    "model.compile(optimizer=RMSprop(lr=0.001), loss='categorical_crossentropy', metrics=['accuracy'])\n",
    "\n",
    "# With the optimizer defined, we can now train the model\n",
    "model.fit(train_x, train_y, \n",
    "        batch_size=32,\n",
    "        nb_epoch = 10,\n",
    "        verbose=1)\n",
    "\n",
    "# Now, we will save the results\n",
    "preds = model.predict_classes(test_x, verbose=0)\n",
    "output = pd.DataFrame(\n",
    "    {\n",
    "        \"ImageId\": list(range(1,len(preds)+1)),\n",
    "        \"Label\": preds\n",
    "    }\n",
    ")\n",
    "output.to_csv(\"outcome.csv\", index=False, header=True)"
   ]
  }
 ],
 "metadata": {
  "kernelspec": {
   "display_name": "Python 3",
   "language": "python",
   "name": "python3"
  },
  "language_info": {
   "codemirror_mode": {
    "name": "ipython",
    "version": 3
   },
   "file_extension": ".py",
   "mimetype": "text/x-python",
   "name": "python",
   "nbconvert_exporter": "python",
   "pygments_lexer": "ipython3",
   "version": "3.6.3"
  }
 },
 "nbformat": 4,
 "nbformat_minor": 2
}
